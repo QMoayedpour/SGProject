{
 "cells": [
  {
   "cell_type": "code",
   "execution_count": 1,
   "metadata": {},
   "outputs": [
    {
     "name": "stdout",
     "output_type": "stream",
     "text": [
      "Obtaining file:///home/onyxia/work/SGProject\n",
      "  Installing build dependencies ... \u001b[?25ldone\n",
      "\u001b[?25h  Checking if build backend supports build_editable ... \u001b[?25ldone\n",
      "\u001b[?25h  Getting requirements to build editable ... \u001b[?25ldone\n",
      "\u001b[?25h  Preparing editable metadata (pyproject.toml) ... \u001b[?25ldone\n",
      "\u001b[?25hRequirement already satisfied: pandas in /home/onyxia/work/.venv/lib/python3.12/site-packages (from SGproject==0.1.0) (2.2.3)\n",
      "Requirement already satisfied: torch in /home/onyxia/work/.venv/lib/python3.12/site-packages (from SGproject==0.1.0) (2.5.1)\n",
      "Requirement already satisfied: numpy in /home/onyxia/work/.venv/lib/python3.12/site-packages (from SGproject==0.1.0) (2.2.1)\n",
      "Requirement already satisfied: matplotlib in /home/onyxia/work/.venv/lib/python3.12/site-packages (from SGproject==0.1.0) (3.10.0)\n",
      "Requirement already satisfied: scikit-learn in /home/onyxia/work/.venv/lib/python3.12/site-packages (from SGproject==0.1.0) (1.6.0)\n",
      "Requirement already satisfied: scipy in /home/onyxia/work/.venv/lib/python3.12/site-packages (from SGproject==0.1.0) (1.14.1)\n",
      "Requirement already satisfied: tqdm in /home/onyxia/work/.venv/lib/python3.12/site-packages (from SGproject==0.1.0) (4.67.1)\n",
      "Requirement already satisfied: statsmodels in /home/onyxia/work/.venv/lib/python3.12/site-packages (from SGproject==0.1.0) (0.14.4)\n",
      "Requirement already satisfied: contourpy>=1.0.1 in /home/onyxia/work/.venv/lib/python3.12/site-packages (from matplotlib->SGproject==0.1.0) (1.3.1)\n",
      "Requirement already satisfied: cycler>=0.10 in /home/onyxia/work/.venv/lib/python3.12/site-packages (from matplotlib->SGproject==0.1.0) (0.12.1)\n",
      "Requirement already satisfied: fonttools>=4.22.0 in /home/onyxia/work/.venv/lib/python3.12/site-packages (from matplotlib->SGproject==0.1.0) (4.55.3)\n",
      "Requirement already satisfied: kiwisolver>=1.3.1 in /home/onyxia/work/.venv/lib/python3.12/site-packages (from matplotlib->SGproject==0.1.0) (1.4.8)\n",
      "Requirement already satisfied: packaging>=20.0 in /home/onyxia/work/.venv/lib/python3.12/site-packages (from matplotlib->SGproject==0.1.0) (24.2)\n",
      "Requirement already satisfied: pillow>=8 in /home/onyxia/work/.venv/lib/python3.12/site-packages (from matplotlib->SGproject==0.1.0) (11.0.0)\n",
      "Requirement already satisfied: pyparsing>=2.3.1 in /home/onyxia/work/.venv/lib/python3.12/site-packages (from matplotlib->SGproject==0.1.0) (3.2.0)\n",
      "Requirement already satisfied: python-dateutil>=2.7 in /home/onyxia/work/.venv/lib/python3.12/site-packages (from matplotlib->SGproject==0.1.0) (2.9.0.post0)\n",
      "Requirement already satisfied: pytz>=2020.1 in /home/onyxia/work/.venv/lib/python3.12/site-packages (from pandas->SGproject==0.1.0) (2024.2)\n",
      "Requirement already satisfied: tzdata>=2022.7 in /home/onyxia/work/.venv/lib/python3.12/site-packages (from pandas->SGproject==0.1.0) (2024.2)\n",
      "Requirement already satisfied: joblib>=1.2.0 in /home/onyxia/work/.venv/lib/python3.12/site-packages (from scikit-learn->SGproject==0.1.0) (1.4.2)\n",
      "Requirement already satisfied: threadpoolctl>=3.1.0 in /home/onyxia/work/.venv/lib/python3.12/site-packages (from scikit-learn->SGproject==0.1.0) (3.5.0)\n",
      "Requirement already satisfied: patsy>=0.5.6 in /home/onyxia/work/.venv/lib/python3.12/site-packages (from statsmodels->SGproject==0.1.0) (1.0.1)\n",
      "Requirement already satisfied: filelock in /home/onyxia/work/.venv/lib/python3.12/site-packages (from torch->SGproject==0.1.0) (3.16.1)\n",
      "Requirement already satisfied: typing-extensions>=4.8.0 in /home/onyxia/work/.venv/lib/python3.12/site-packages (from torch->SGproject==0.1.0) (4.12.2)\n",
      "Requirement already satisfied: networkx in /home/onyxia/work/.venv/lib/python3.12/site-packages (from torch->SGproject==0.1.0) (3.4.2)\n",
      "Requirement already satisfied: jinja2 in /home/onyxia/work/.venv/lib/python3.12/site-packages (from torch->SGproject==0.1.0) (3.1.5)\n",
      "Requirement already satisfied: fsspec in /home/onyxia/work/.venv/lib/python3.12/site-packages (from torch->SGproject==0.1.0) (2024.12.0)\n",
      "Requirement already satisfied: nvidia-cuda-nvrtc-cu12==12.4.127 in /home/onyxia/work/.venv/lib/python3.12/site-packages (from torch->SGproject==0.1.0) (12.4.127)\n",
      "Requirement already satisfied: nvidia-cuda-runtime-cu12==12.4.127 in /home/onyxia/work/.venv/lib/python3.12/site-packages (from torch->SGproject==0.1.0) (12.4.127)\n",
      "Requirement already satisfied: nvidia-cuda-cupti-cu12==12.4.127 in /home/onyxia/work/.venv/lib/python3.12/site-packages (from torch->SGproject==0.1.0) (12.4.127)\n",
      "Requirement already satisfied: nvidia-cudnn-cu12==9.1.0.70 in /home/onyxia/work/.venv/lib/python3.12/site-packages (from torch->SGproject==0.1.0) (9.1.0.70)\n",
      "Requirement already satisfied: nvidia-cublas-cu12==12.4.5.8 in /home/onyxia/work/.venv/lib/python3.12/site-packages (from torch->SGproject==0.1.0) (12.4.5.8)\n",
      "Requirement already satisfied: nvidia-cufft-cu12==11.2.1.3 in /home/onyxia/work/.venv/lib/python3.12/site-packages (from torch->SGproject==0.1.0) (11.2.1.3)\n",
      "Requirement already satisfied: nvidia-curand-cu12==10.3.5.147 in /home/onyxia/work/.venv/lib/python3.12/site-packages (from torch->SGproject==0.1.0) (10.3.5.147)\n",
      "Requirement already satisfied: nvidia-cusolver-cu12==11.6.1.9 in /home/onyxia/work/.venv/lib/python3.12/site-packages (from torch->SGproject==0.1.0) (11.6.1.9)\n",
      "Requirement already satisfied: nvidia-cusparse-cu12==12.3.1.170 in /home/onyxia/work/.venv/lib/python3.12/site-packages (from torch->SGproject==0.1.0) (12.3.1.170)\n",
      "Requirement already satisfied: nvidia-nccl-cu12==2.21.5 in /home/onyxia/work/.venv/lib/python3.12/site-packages (from torch->SGproject==0.1.0) (2.21.5)\n",
      "Requirement already satisfied: nvidia-nvtx-cu12==12.4.127 in /home/onyxia/work/.venv/lib/python3.12/site-packages (from torch->SGproject==0.1.0) (12.4.127)\n",
      "Requirement already satisfied: nvidia-nvjitlink-cu12==12.4.127 in /home/onyxia/work/.venv/lib/python3.12/site-packages (from torch->SGproject==0.1.0) (12.4.127)\n",
      "Requirement already satisfied: triton==3.1.0 in /home/onyxia/work/.venv/lib/python3.12/site-packages (from torch->SGproject==0.1.0) (3.1.0)\n",
      "Requirement already satisfied: setuptools in /home/onyxia/work/.venv/lib/python3.12/site-packages (from torch->SGproject==0.1.0) (75.6.0)\n",
      "Requirement already satisfied: sympy==1.13.1 in /home/onyxia/work/.venv/lib/python3.12/site-packages (from torch->SGproject==0.1.0) (1.13.1)\n",
      "Requirement already satisfied: mpmath<1.4,>=1.1.0 in /home/onyxia/work/.venv/lib/python3.12/site-packages (from sympy==1.13.1->torch->SGproject==0.1.0) (1.3.0)\n",
      "Requirement already satisfied: six>=1.5 in /home/onyxia/work/.venv/lib/python3.12/site-packages (from python-dateutil>=2.7->matplotlib->SGproject==0.1.0) (1.17.0)\n",
      "Requirement already satisfied: MarkupSafe>=2.0 in /home/onyxia/work/.venv/lib/python3.12/site-packages (from jinja2->torch->SGproject==0.1.0) (3.0.2)\n",
      "Building wheels for collected packages: SGproject\n",
      "  Building editable for SGproject (pyproject.toml) ... \u001b[?25ldone\n",
      "\u001b[?25h  Created wheel for SGproject: filename=SGproject-0.1.0-0.editable-py3-none-any.whl size=2748 sha256=bdac3b5737a14cde67929444819a0bfb838230d32eea62edb6d645127855870c\n",
      "  Stored in directory: /tmp/pip-ephem-wheel-cache-j9kqx05m/wheels/f5/6e/47/c0527d9e4b928bcc07e0d4d222fabbab3ba4023393e2869f22\n",
      "Successfully built SGproject\n",
      "Installing collected packages: SGproject\n",
      "Successfully installed SGproject-0.1.0\n",
      "Note: you may need to restart the kernel to use updated packages.\n"
     ]
    }
   ],
   "source": [
    "pip install -e ."
   ]
  }
 ],
 "metadata": {
  "kernelspec": {
   "display_name": ".venv",
   "language": "python",
   "name": "python3"
  },
  "language_info": {
   "codemirror_mode": {
    "name": "ipython",
    "version": 3
   },
   "file_extension": ".py",
   "mimetype": "text/x-python",
   "name": "python",
   "nbconvert_exporter": "python",
   "pygments_lexer": "ipython3",
   "version": "3.12.7"
  }
 },
 "nbformat": 4,
 "nbformat_minor": 2
}
