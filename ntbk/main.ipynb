{
 "cells": [
  {
   "cell_type": "code",
   "execution_count": 1,
   "metadata": {},
   "outputs": [],
   "source": [
    "import pandas as pd\n",
    "import numpy as np\n",
    "import matplotlib.pyplot as plt\n",
    "import seaborn as sns\n",
    "from src.cleaning import get_types_col\n"
   ]
  },
  {
   "cell_type": "code",
   "execution_count": 2,
   "metadata": {},
   "outputs": [],
   "source": [
    "df_base = pd.read_csv('../data/training_inputs.csv', sep=';', decimal='.')\n",
    "y = pd.read_csv('../data/training_outputs.csv', sep=';', decimal='.')\n",
    "df_base = pd.merge(df_base, y, on='ID', how='inner')  "
   ]
  },
  {
   "cell_type": "code",
   "execution_count": 3,
   "metadata": {},
   "outputs": [],
   "source": [
    "df = df_base.copy()"
   ]
  },
  {
   "cell_type": "markdown",
   "metadata": {},
   "source": [
    "## 1: Traitement des données"
   ]
  },
  {
   "cell_type": "markdown",
   "metadata": {},
   "source": [
    "--- \n",
    "\n",
    "Première étape pour un projet de data science: Nettoyer les données"
   ]
  },
  {
   "cell_type": "code",
   "execution_count": 4,
   "metadata": {},
   "outputs": [
    {
     "data": {
      "text/plain": [
       "array(['true', 'false', nan, 'true '], dtype=object)"
      ]
     },
     "execution_count": 4,
     "metadata": {},
     "output_type": "execute_result"
    }
   ],
   "source": [
    "df_base[\"Q66\"].unique()"
   ]
  },
  {
   "cell_type": "code",
   "execution_count": 5,
   "metadata": {},
   "outputs": [],
   "source": [
    "df, types = get_types_col(df)"
   ]
  },
  {
   "cell_type": "markdown",
   "metadata": {},
   "source": [
    "Premier nettoiement des données et séparation des différents types de variables (qualitatives, quantitatives etc...)"
   ]
  },
  {
   "cell_type": "markdown",
   "metadata": {},
   "source": [
    "#### Booléennes"
   ]
  },
  {
   "cell_type": "code",
   "execution_count": 11,
   "metadata": {},
   "outputs": [
    {
     "data": {
      "text/html": [
       "<div>\n",
       "<style scoped>\n",
       "    .dataframe tbody tr th:only-of-type {\n",
       "        vertical-align: middle;\n",
       "    }\n",
       "\n",
       "    .dataframe tbody tr th {\n",
       "        vertical-align: top;\n",
       "    }\n",
       "\n",
       "    .dataframe thead th {\n",
       "        text-align: right;\n",
       "    }\n",
       "</style>\n",
       "<table border=\"1\" class=\"dataframe\">\n",
       "  <thead>\n",
       "    <tr style=\"text-align: right;\">\n",
       "      <th></th>\n",
       "      <th>C5</th>\n",
       "      <th>C6</th>\n",
       "      <th>C7</th>\n",
       "      <th>Q7</th>\n",
       "      <th>Q16</th>\n",
       "      <th>Q52</th>\n",
       "      <th>Q53</th>\n",
       "      <th>Q54</th>\n",
       "      <th>Q55</th>\n",
       "      <th>Q56</th>\n",
       "      <th>...</th>\n",
       "      <th>Q70</th>\n",
       "      <th>Q71</th>\n",
       "      <th>Q72</th>\n",
       "      <th>Q73</th>\n",
       "      <th>Q74</th>\n",
       "      <th>Q75</th>\n",
       "      <th>C14</th>\n",
       "      <th>C9</th>\n",
       "      <th>C4</th>\n",
       "      <th>C8</th>\n",
       "    </tr>\n",
       "  </thead>\n",
       "  <tbody>\n",
       "    <tr>\n",
       "      <th>0</th>\n",
       "      <td>False</td>\n",
       "      <td>False</td>\n",
       "      <td>False</td>\n",
       "      <td>False</td>\n",
       "      <td>False</td>\n",
       "      <td>NaN</td>\n",
       "      <td>False</td>\n",
       "      <td>NaN</td>\n",
       "      <td>NaN</td>\n",
       "      <td>NaN</td>\n",
       "      <td>...</td>\n",
       "      <td>True</td>\n",
       "      <td>False</td>\n",
       "      <td>False</td>\n",
       "      <td>NaN</td>\n",
       "      <td>NaN</td>\n",
       "      <td>NaN</td>\n",
       "      <td>True</td>\n",
       "      <td>True</td>\n",
       "      <td>True</td>\n",
       "      <td>True</td>\n",
       "    </tr>\n",
       "    <tr>\n",
       "      <th>1</th>\n",
       "      <td>False</td>\n",
       "      <td>False</td>\n",
       "      <td>False</td>\n",
       "      <td>NaN</td>\n",
       "      <td>False</td>\n",
       "      <td>False</td>\n",
       "      <td>True</td>\n",
       "      <td>True</td>\n",
       "      <td>False</td>\n",
       "      <td>True</td>\n",
       "      <td>...</td>\n",
       "      <td>True</td>\n",
       "      <td>False</td>\n",
       "      <td>False</td>\n",
       "      <td>True</td>\n",
       "      <td>False</td>\n",
       "      <td>False</td>\n",
       "      <td>True</td>\n",
       "      <td>True</td>\n",
       "      <td>False</td>\n",
       "      <td>False</td>\n",
       "    </tr>\n",
       "    <tr>\n",
       "      <th>2</th>\n",
       "      <td>False</td>\n",
       "      <td>False</td>\n",
       "      <td>False</td>\n",
       "      <td>NaN</td>\n",
       "      <td>False</td>\n",
       "      <td>NaN</td>\n",
       "      <td>False</td>\n",
       "      <td>False</td>\n",
       "      <td>False</td>\n",
       "      <td>True</td>\n",
       "      <td>...</td>\n",
       "      <td>True</td>\n",
       "      <td>False</td>\n",
       "      <td>False</td>\n",
       "      <td>NaN</td>\n",
       "      <td>NaN</td>\n",
       "      <td>NaN</td>\n",
       "      <td>False</td>\n",
       "      <td>True</td>\n",
       "      <td>False</td>\n",
       "      <td>False</td>\n",
       "    </tr>\n",
       "    <tr>\n",
       "      <th>3</th>\n",
       "      <td>False</td>\n",
       "      <td>False</td>\n",
       "      <td>False</td>\n",
       "      <td>NaN</td>\n",
       "      <td>True</td>\n",
       "      <td>NaN</td>\n",
       "      <td>False</td>\n",
       "      <td>False</td>\n",
       "      <td>False</td>\n",
       "      <td>False</td>\n",
       "      <td>...</td>\n",
       "      <td>True</td>\n",
       "      <td>False</td>\n",
       "      <td>False</td>\n",
       "      <td>NaN</td>\n",
       "      <td>NaN</td>\n",
       "      <td>NaN</td>\n",
       "      <td>True</td>\n",
       "      <td>True</td>\n",
       "      <td>True</td>\n",
       "      <td>False</td>\n",
       "    </tr>\n",
       "    <tr>\n",
       "      <th>4</th>\n",
       "      <td>False</td>\n",
       "      <td>False</td>\n",
       "      <td>False</td>\n",
       "      <td>False</td>\n",
       "      <td>False</td>\n",
       "      <td>NaN</td>\n",
       "      <td>False</td>\n",
       "      <td>NaN</td>\n",
       "      <td>NaN</td>\n",
       "      <td>NaN</td>\n",
       "      <td>...</td>\n",
       "      <td>True</td>\n",
       "      <td>False</td>\n",
       "      <td>False</td>\n",
       "      <td>NaN</td>\n",
       "      <td>NaN</td>\n",
       "      <td>NaN</td>\n",
       "      <td>False</td>\n",
       "      <td>True</td>\n",
       "      <td>True</td>\n",
       "      <td>True</td>\n",
       "    </tr>\n",
       "  </tbody>\n",
       "</table>\n",
       "<p>5 rows × 33 columns</p>\n",
       "</div>"
      ],
      "text/plain": [
       "      C5     C6     C7     Q7    Q16    Q52    Q53    Q54    Q55    Q56  ...  \\\n",
       "0  False  False  False  False  False    NaN  False    NaN    NaN    NaN  ...   \n",
       "1  False  False  False    NaN  False  False   True   True  False   True  ...   \n",
       "2  False  False  False    NaN  False    NaN  False  False  False   True  ...   \n",
       "3  False  False  False    NaN   True    NaN  False  False  False  False  ...   \n",
       "4  False  False  False  False  False    NaN  False    NaN    NaN    NaN  ...   \n",
       "\n",
       "    Q70    Q71    Q72   Q73    Q74    Q75    C14    C9     C4     C8  \n",
       "0  True  False  False   NaN    NaN    NaN   True  True   True   True  \n",
       "1  True  False  False  True  False  False   True  True  False  False  \n",
       "2  True  False  False   NaN    NaN    NaN  False  True  False  False  \n",
       "3  True  False  False   NaN    NaN    NaN   True  True   True  False  \n",
       "4  True  False  False   NaN    NaN    NaN  False  True   True   True  \n",
       "\n",
       "[5 rows x 33 columns]"
      ]
     },
     "execution_count": 11,
     "metadata": {},
     "output_type": "execute_result"
    }
   ],
   "source": [
    "df[types[0]].head(5)"
   ]
  },
  {
   "cell_type": "markdown",
   "metadata": {},
   "source": [
    "#### Qualitatives"
   ]
  },
  {
   "cell_type": "code",
   "execution_count": 12,
   "metadata": {},
   "outputs": [
    {
     "data": {
      "text/html": [
       "<div>\n",
       "<style scoped>\n",
       "    .dataframe tbody tr th:only-of-type {\n",
       "        vertical-align: middle;\n",
       "    }\n",
       "\n",
       "    .dataframe tbody tr th {\n",
       "        vertical-align: top;\n",
       "    }\n",
       "\n",
       "    .dataframe thead th {\n",
       "        text-align: right;\n",
       "    }\n",
       "</style>\n",
       "<table border=\"1\" class=\"dataframe\">\n",
       "  <thead>\n",
       "    <tr style=\"text-align: right;\">\n",
       "      <th></th>\n",
       "      <th>C3</th>\n",
       "      <th>Q1</th>\n",
       "      <th>Q11</th>\n",
       "      <th>C13</th>\n",
       "      <th>Q39</th>\n",
       "      <th>Q3</th>\n",
       "      <th>Q28</th>\n",
       "      <th>Q12</th>\n",
       "      <th>Q34</th>\n",
       "      <th>C12</th>\n",
       "      <th>Q29</th>\n",
       "      <th>C2</th>\n",
       "      <th>Q32</th>\n",
       "      <th>Q10</th>\n",
       "      <th>Q36</th>\n",
       "      <th>Q2</th>\n",
       "    </tr>\n",
       "  </thead>\n",
       "  <tbody>\n",
       "    <tr>\n",
       "      <th>0</th>\n",
       "      <td>C</td>\n",
       "      <td>HA</td>\n",
       "      <td>D7</td>\n",
       "      <td>RC</td>\n",
       "      <td>NaN</td>\n",
       "      <td>UC</td>\n",
       "      <td>ZA</td>\n",
       "      <td>EA</td>\n",
       "      <td>ED</td>\n",
       "      <td>OB</td>\n",
       "      <td>IA</td>\n",
       "      <td>RA</td>\n",
       "      <td>LC</td>\n",
       "      <td>PC</td>\n",
       "      <td>AC</td>\n",
       "      <td>ZA</td>\n",
       "    </tr>\n",
       "    <tr>\n",
       "      <th>1</th>\n",
       "      <td>C</td>\n",
       "      <td>HC</td>\n",
       "      <td>DS</td>\n",
       "      <td>RC</td>\n",
       "      <td>NaN</td>\n",
       "      <td>UC</td>\n",
       "      <td>ZF</td>\n",
       "      <td>E8</td>\n",
       "      <td>ED</td>\n",
       "      <td>OB</td>\n",
       "      <td>ID</td>\n",
       "      <td>RA</td>\n",
       "      <td>LC</td>\n",
       "      <td>PC</td>\n",
       "      <td>AC</td>\n",
       "      <td>ZA</td>\n",
       "    </tr>\n",
       "    <tr>\n",
       "      <th>2</th>\n",
       "      <td>B</td>\n",
       "      <td>HC</td>\n",
       "      <td>D3</td>\n",
       "      <td>R7</td>\n",
       "      <td>NaN</td>\n",
       "      <td>UA</td>\n",
       "      <td>ZF</td>\n",
       "      <td>EA</td>\n",
       "      <td>EF</td>\n",
       "      <td>OC</td>\n",
       "      <td>IA</td>\n",
       "      <td>RC</td>\n",
       "      <td>LA</td>\n",
       "      <td>PD</td>\n",
       "      <td>AD</td>\n",
       "      <td>ZA</td>\n",
       "    </tr>\n",
       "    <tr>\n",
       "      <th>3</th>\n",
       "      <td>C</td>\n",
       "      <td>HC</td>\n",
       "      <td>DB</td>\n",
       "      <td>RC</td>\n",
       "      <td>NaN</td>\n",
       "      <td>UC</td>\n",
       "      <td>ZA</td>\n",
       "      <td>EA</td>\n",
       "      <td>ED</td>\n",
       "      <td>OA</td>\n",
       "      <td>IA</td>\n",
       "      <td>RA</td>\n",
       "      <td>LD</td>\n",
       "      <td>PA</td>\n",
       "      <td>AC</td>\n",
       "      <td>ZA</td>\n",
       "    </tr>\n",
       "    <tr>\n",
       "      <th>4</th>\n",
       "      <td>B</td>\n",
       "      <td>HA</td>\n",
       "      <td>DF</td>\n",
       "      <td>RC</td>\n",
       "      <td>NaN</td>\n",
       "      <td>UA</td>\n",
       "      <td>ZA</td>\n",
       "      <td>EA</td>\n",
       "      <td>ED</td>\n",
       "      <td>OB</td>\n",
       "      <td>IA</td>\n",
       "      <td>RA</td>\n",
       "      <td>LD</td>\n",
       "      <td>PC</td>\n",
       "      <td>AC</td>\n",
       "      <td>ZA</td>\n",
       "    </tr>\n",
       "  </tbody>\n",
       "</table>\n",
       "</div>"
      ],
      "text/plain": [
       "  C3  Q1 Q11 C13  Q39  Q3 Q28 Q12 Q34 C12 Q29  C2 Q32 Q10 Q36  Q2\n",
       "0  C  HA  D7  RC  NaN  UC  ZA  EA  ED  OB  IA  RA  LC  PC  AC  ZA\n",
       "1  C  HC  DS  RC  NaN  UC  ZF  E8  ED  OB  ID  RA  LC  PC  AC  ZA\n",
       "2  B  HC  D3  R7  NaN  UA  ZF  EA  EF  OC  IA  RC  LA  PD  AD  ZA\n",
       "3  C  HC  DB  RC  NaN  UC  ZA  EA  ED  OA  IA  RA  LD  PA  AC  ZA\n",
       "4  B  HA  DF  RC  NaN  UA  ZA  EA  ED  OB  IA  RA  LD  PC  AC  ZA"
      ]
     },
     "execution_count": 12,
     "metadata": {},
     "output_type": "execute_result"
    }
   ],
   "source": [
    "df[types[1]].head(5)"
   ]
  },
  {
   "cell_type": "markdown",
   "metadata": {},
   "source": [
    "#### Quantitatives"
   ]
  },
  {
   "cell_type": "code",
   "execution_count": 13,
   "metadata": {},
   "outputs": [
    {
     "data": {
      "text/html": [
       "<div>\n",
       "<style scoped>\n",
       "    .dataframe tbody tr th:only-of-type {\n",
       "        vertical-align: middle;\n",
       "    }\n",
       "\n",
       "    .dataframe tbody tr th {\n",
       "        vertical-align: top;\n",
       "    }\n",
       "\n",
       "    .dataframe thead th {\n",
       "        text-align: right;\n",
       "    }\n",
       "</style>\n",
       "<table border=\"1\" class=\"dataframe\">\n",
       "  <thead>\n",
       "    <tr style=\"text-align: right;\">\n",
       "      <th></th>\n",
       "      <th>ID</th>\n",
       "      <th>C10</th>\n",
       "      <th>C11</th>\n",
       "      <th>C15</th>\n",
       "      <th>C16</th>\n",
       "      <th>C17</th>\n",
       "      <th>C18</th>\n",
       "      <th>C19</th>\n",
       "      <th>S1</th>\n",
       "      <th>S2</th>\n",
       "      <th>...</th>\n",
       "      <th>Q42</th>\n",
       "      <th>Q43</th>\n",
       "      <th>Q44</th>\n",
       "      <th>Q45</th>\n",
       "      <th>Q46</th>\n",
       "      <th>Q47</th>\n",
       "      <th>Q48</th>\n",
       "      <th>Q49</th>\n",
       "      <th>Q50</th>\n",
       "      <th>Q51</th>\n",
       "    </tr>\n",
       "  </thead>\n",
       "  <tbody>\n",
       "    <tr>\n",
       "      <th>0</th>\n",
       "      <td>0</td>\n",
       "      <td>8</td>\n",
       "      <td>2286</td>\n",
       "      <td>2</td>\n",
       "      <td>214</td>\n",
       "      <td>212</td>\n",
       "      <td>16</td>\n",
       "      <td>7</td>\n",
       "      <td>1.0</td>\n",
       "      <td>0</td>\n",
       "      <td>...</td>\n",
       "      <td>1.0</td>\n",
       "      <td>0.0</td>\n",
       "      <td>0.0</td>\n",
       "      <td>1.0</td>\n",
       "      <td>1.0</td>\n",
       "      <td>0.0</td>\n",
       "      <td>2.0</td>\n",
       "      <td>1.0</td>\n",
       "      <td>1.0</td>\n",
       "      <td>1.0</td>\n",
       "    </tr>\n",
       "    <tr>\n",
       "      <th>1</th>\n",
       "      <td>1</td>\n",
       "      <td>166</td>\n",
       "      <td>2220</td>\n",
       "      <td>3</td>\n",
       "      <td>511</td>\n",
       "      <td>414</td>\n",
       "      <td>15</td>\n",
       "      <td>19</td>\n",
       "      <td>3.0</td>\n",
       "      <td>2</td>\n",
       "      <td>...</td>\n",
       "      <td>1.0</td>\n",
       "      <td>1.0</td>\n",
       "      <td>0.0</td>\n",
       "      <td>1.0</td>\n",
       "      <td>1.0</td>\n",
       "      <td>1.0</td>\n",
       "      <td>0.0</td>\n",
       "      <td>1.0</td>\n",
       "      <td>1.0</td>\n",
       "      <td>0.0</td>\n",
       "    </tr>\n",
       "    <tr>\n",
       "      <th>2</th>\n",
       "      <td>2</td>\n",
       "      <td>17</td>\n",
       "      <td>2265</td>\n",
       "      <td>4</td>\n",
       "      <td>407</td>\n",
       "      <td>405</td>\n",
       "      <td>17</td>\n",
       "      <td>8</td>\n",
       "      <td>NaN</td>\n",
       "      <td>0</td>\n",
       "      <td>...</td>\n",
       "      <td>1.0</td>\n",
       "      <td>0.0</td>\n",
       "      <td>0.0</td>\n",
       "      <td>1.0</td>\n",
       "      <td>1.0</td>\n",
       "      <td>0.0</td>\n",
       "      <td>1.0</td>\n",
       "      <td>1.0</td>\n",
       "      <td>1.0</td>\n",
       "      <td>1.0</td>\n",
       "    </tr>\n",
       "    <tr>\n",
       "      <th>3</th>\n",
       "      <td>3</td>\n",
       "      <td>16</td>\n",
       "      <td>2250</td>\n",
       "      <td>3</td>\n",
       "      <td>712</td>\n",
       "      <td>410</td>\n",
       "      <td>16</td>\n",
       "      <td>12</td>\n",
       "      <td>4.0</td>\n",
       "      <td>1</td>\n",
       "      <td>...</td>\n",
       "      <td>0.0</td>\n",
       "      <td>0.0</td>\n",
       "      <td>1.0</td>\n",
       "      <td>1.0</td>\n",
       "      <td>1.0</td>\n",
       "      <td>1.0</td>\n",
       "      <td>3.0</td>\n",
       "      <td>2.0</td>\n",
       "      <td>2.0</td>\n",
       "      <td>3.0</td>\n",
       "    </tr>\n",
       "    <tr>\n",
       "      <th>4</th>\n",
       "      <td>4</td>\n",
       "      <td>23</td>\n",
       "      <td>2305</td>\n",
       "      <td>1</td>\n",
       "      <td>206</td>\n",
       "      <td>204</td>\n",
       "      <td>17</td>\n",
       "      <td>4</td>\n",
       "      <td>NaN</td>\n",
       "      <td>1</td>\n",
       "      <td>...</td>\n",
       "      <td>1.0</td>\n",
       "      <td>0.0</td>\n",
       "      <td>0.0</td>\n",
       "      <td>0.0</td>\n",
       "      <td>1.0</td>\n",
       "      <td>0.0</td>\n",
       "      <td>0.0</td>\n",
       "      <td>1.0</td>\n",
       "      <td>1.0</td>\n",
       "      <td>1.0</td>\n",
       "    </tr>\n",
       "  </tbody>\n",
       "</table>\n",
       "<p>5 rows × 52 columns</p>\n",
       "</div>"
      ],
      "text/plain": [
       "   ID  C10   C11  C15  C16  C17  C18  C19   S1  S2  ...  Q42  Q43  Q44  Q45  \\\n",
       "0   0    8  2286    2  214  212   16    7  1.0   0  ...  1.0  0.0  0.0  1.0   \n",
       "1   1  166  2220    3  511  414   15   19  3.0   2  ...  1.0  1.0  0.0  1.0   \n",
       "2   2   17  2265    4  407  405   17    8  NaN   0  ...  1.0  0.0  0.0  1.0   \n",
       "3   3   16  2250    3  712  410   16   12  4.0   1  ...  0.0  0.0  1.0  1.0   \n",
       "4   4   23  2305    1  206  204   17    4  NaN   1  ...  1.0  0.0  0.0  0.0   \n",
       "\n",
       "   Q46  Q47  Q48  Q49  Q50  Q51  \n",
       "0  1.0  0.0  2.0  1.0  1.0  1.0  \n",
       "1  1.0  1.0  0.0  1.0  1.0  0.0  \n",
       "2  1.0  0.0  1.0  1.0  1.0  1.0  \n",
       "3  1.0  1.0  3.0  2.0  2.0  3.0  \n",
       "4  1.0  0.0  0.0  1.0  1.0  1.0  \n",
       "\n",
       "[5 rows x 52 columns]"
      ]
     },
     "execution_count": 13,
     "metadata": {},
     "output_type": "execute_result"
    }
   ],
   "source": [
    "df[types[2]].head(5)"
   ]
  },
  {
   "cell_type": "markdown",
   "metadata": {},
   "source": [
    "#### Temporelles"
   ]
  },
  {
   "cell_type": "code",
   "execution_count": 14,
   "metadata": {},
   "outputs": [
    {
     "data": {
      "text/html": [
       "<div>\n",
       "<style scoped>\n",
       "    .dataframe tbody tr th:only-of-type {\n",
       "        vertical-align: middle;\n",
       "    }\n",
       "\n",
       "    .dataframe tbody tr th {\n",
       "        vertical-align: top;\n",
       "    }\n",
       "\n",
       "    .dataframe thead th {\n",
       "        text-align: right;\n",
       "    }\n",
       "</style>\n",
       "<table border=\"1\" class=\"dataframe\">\n",
       "  <thead>\n",
       "    <tr style=\"text-align: right;\">\n",
       "      <th></th>\n",
       "      <th>S3</th>\n",
       "      <th>S4</th>\n",
       "      <th>S5</th>\n",
       "      <th>S6</th>\n",
       "      <th>S7</th>\n",
       "    </tr>\n",
       "  </thead>\n",
       "  <tbody>\n",
       "    <tr>\n",
       "      <th>0</th>\n",
       "      <td>2013-11-15</td>\n",
       "      <td>2014-02-22</td>\n",
       "      <td>2013-09-08</td>\n",
       "      <td>2013-09-07</td>\n",
       "      <td>2013-09-07</td>\n",
       "    </tr>\n",
       "    <tr>\n",
       "      <th>1</th>\n",
       "      <td>2013-11-15</td>\n",
       "      <td>2014-08-07</td>\n",
       "      <td>2013-04-18</td>\n",
       "      <td>2013-09-14</td>\n",
       "      <td>2014-03-21</td>\n",
       "    </tr>\n",
       "    <tr>\n",
       "      <th>2</th>\n",
       "      <td>2013-11-15</td>\n",
       "      <td>2013-11-05</td>\n",
       "      <td>2013-11-05</td>\n",
       "      <td>NaT</td>\n",
       "      <td>NaT</td>\n",
       "    </tr>\n",
       "    <tr>\n",
       "      <th>3</th>\n",
       "      <td>2013-11-15</td>\n",
       "      <td>2014-05-30</td>\n",
       "      <td>2013-07-03</td>\n",
       "      <td>2014-01-30</td>\n",
       "      <td>2014-05-18</td>\n",
       "    </tr>\n",
       "    <tr>\n",
       "      <th>4</th>\n",
       "      <td>2013-11-15</td>\n",
       "      <td>2013-09-22</td>\n",
       "      <td>2013-09-22</td>\n",
       "      <td>NaT</td>\n",
       "      <td>NaT</td>\n",
       "    </tr>\n",
       "  </tbody>\n",
       "</table>\n",
       "</div>"
      ],
      "text/plain": [
       "          S3         S4         S5         S6         S7\n",
       "0 2013-11-15 2014-02-22 2013-09-08 2013-09-07 2013-09-07\n",
       "1 2013-11-15 2014-08-07 2013-04-18 2013-09-14 2014-03-21\n",
       "2 2013-11-15 2013-11-05 2013-11-05        NaT        NaT\n",
       "3 2013-11-15 2014-05-30 2013-07-03 2014-01-30 2014-05-18\n",
       "4 2013-11-15 2013-09-22 2013-09-22        NaT        NaT"
      ]
     },
     "execution_count": 14,
     "metadata": {},
     "output_type": "execute_result"
    }
   ],
   "source": [
    "df[types[-1]].head(5)"
   ]
  },
  {
   "cell_type": "markdown",
   "metadata": {},
   "source": [
    "### Présentation du problème"
   ]
  },
  {
   "cell_type": "markdown",
   "metadata": {},
   "source": [
    "On cherche à prédire la variable \"TARGET\", qui contient 20% de 1 (pour 80% de 0)"
   ]
  },
  {
   "cell_type": "code",
   "execution_count": 15,
   "metadata": {},
   "outputs": [
    {
     "data": {
      "text/plain": [
       "0.19359515485975518"
      ]
     },
     "execution_count": 15,
     "metadata": {},
     "output_type": "execute_result"
    }
   ],
   "source": [
    "df[\"TARGET\"].mean()"
   ]
  },
  {
   "cell_type": "markdown",
   "metadata": {},
   "source": [
    "Il est évident que dans cette configuration, certaines métriques comme l'accuracy ne sont pas très pertinentes"
   ]
  },
  {
   "cell_type": "code",
   "execution_count": 17,
   "metadata": {},
   "outputs": [],
   "source": [
    "from sklearn.metrics import f1_score, roc_auc_score, classification_report"
   ]
  },
  {
   "cell_type": "code",
   "execution_count": 18,
   "metadata": {},
   "outputs": [
    {
     "name": "stdout",
     "output_type": "stream",
     "text": [
      "              precision    recall  f1-score   support\n",
      "\n",
      "       False       0.81      1.00      0.89     68971\n",
      "        True       0.00      0.00      0.00     16558\n",
      "\n",
      "    accuracy                           0.81     85529\n",
      "   macro avg       0.40      0.50      0.45     85529\n",
      "weighted avg       0.65      0.81      0.72     85529\n",
      "\n"
     ]
    },
    {
     "name": "stderr",
     "output_type": "stream",
     "text": [
      "/home/onyxia/work/.venv/lib/python3.12/site-packages/sklearn/metrics/_classification.py:1531: UndefinedMetricWarning: Precision is ill-defined and being set to 0.0 in labels with no predicted samples. Use `zero_division` parameter to control this behavior.\n",
      "  _warn_prf(average, modifier, f\"{metric.capitalize()} is\", len(result))\n",
      "/home/onyxia/work/.venv/lib/python3.12/site-packages/sklearn/metrics/_classification.py:1531: UndefinedMetricWarning: Precision is ill-defined and being set to 0.0 in labels with no predicted samples. Use `zero_division` parameter to control this behavior.\n",
      "  _warn_prf(average, modifier, f\"{metric.capitalize()} is\", len(result))\n",
      "/home/onyxia/work/.venv/lib/python3.12/site-packages/sklearn/metrics/_classification.py:1531: UndefinedMetricWarning: Precision is ill-defined and being set to 0.0 in labels with no predicted samples. Use `zero_division` parameter to control this behavior.\n",
      "  _warn_prf(average, modifier, f\"{metric.capitalize()} is\", len(result))\n"
     ]
    }
   ],
   "source": [
    "print(classification_report(df[\"TARGET\"].to_numpy(), [0]*df.shape[0]))"
   ]
  },
  {
   "cell_type": "markdown",
   "metadata": {},
   "source": [
    "D'autres métriques telles que le F1 score ou le ROC AUC sont plus pertinentes"
   ]
  },
  {
   "cell_type": "code",
   "execution_count": 19,
   "metadata": {},
   "outputs": [
    {
     "data": {
      "text/plain": [
       "0.5"
      ]
     },
     "execution_count": 19,
     "metadata": {},
     "output_type": "execute_result"
    }
   ],
   "source": [
    "roc_auc_score(df[\"TARGET\"].to_numpy(), [0]*df.shape[0])"
   ]
  },
  {
   "cell_type": "code",
   "execution_count": 20,
   "metadata": {},
   "outputs": [
    {
     "data": {
      "text/plain": [
       "0.4992292984370987"
      ]
     },
     "execution_count": 20,
     "metadata": {},
     "output_type": "execute_result"
    }
   ],
   "source": [
    "float(roc_auc_score(df[\"TARGET\"].to_numpy(), np.random.randint(0, 2, size=df.shape[0])))"
   ]
  },
  {
   "cell_type": "code",
   "execution_count": 21,
   "metadata": {},
   "outputs": [
    {
     "data": {
      "text/plain": [
       "0.2790854408518812"
      ]
     },
     "execution_count": 21,
     "metadata": {},
     "output_type": "execute_result"
    }
   ],
   "source": [
    "f1_score(df[\"TARGET\"].to_numpy(), np.random.randint(0, 2, size=df.shape[0]))"
   ]
  },
  {
   "cell_type": "markdown",
   "metadata": {},
   "source": [
    "#### Gérer les NAN"
   ]
  },
  {
   "cell_type": "markdown",
   "metadata": {},
   "source": [
    "Pour les variables catégorielles, on se permet de remplir simplement par \"Unknown\" les variables avec des NaN"
   ]
  },
  {
   "cell_type": "code",
   "execution_count": null,
   "metadata": {},
   "outputs": [
    {
     "data": {
      "text/html": [
       "<div>\n",
       "<style scoped>\n",
       "    .dataframe tbody tr th:only-of-type {\n",
       "        vertical-align: middle;\n",
       "    }\n",
       "\n",
       "    .dataframe tbody tr th {\n",
       "        vertical-align: top;\n",
       "    }\n",
       "\n",
       "    .dataframe thead th {\n",
       "        text-align: right;\n",
       "    }\n",
       "</style>\n",
       "<table border=\"1\" class=\"dataframe\">\n",
       "  <thead>\n",
       "    <tr style=\"text-align: right;\">\n",
       "      <th></th>\n",
       "      <th>C3</th>\n",
       "      <th>Q1</th>\n",
       "      <th>Q11</th>\n",
       "      <th>C13</th>\n",
       "      <th>Q39</th>\n",
       "      <th>Q3</th>\n",
       "      <th>Q28</th>\n",
       "      <th>Q12</th>\n",
       "      <th>Q34</th>\n",
       "      <th>C12</th>\n",
       "      <th>Q29</th>\n",
       "      <th>C2</th>\n",
       "      <th>Q32</th>\n",
       "      <th>Q10</th>\n",
       "      <th>Q36</th>\n",
       "      <th>Q2</th>\n",
       "    </tr>\n",
       "  </thead>\n",
       "  <tbody>\n",
       "    <tr>\n",
       "      <th>0</th>\n",
       "      <td>C</td>\n",
       "      <td>HA</td>\n",
       "      <td>D7</td>\n",
       "      <td>RC</td>\n",
       "      <td>Unknown</td>\n",
       "      <td>UC</td>\n",
       "      <td>ZA</td>\n",
       "      <td>EA</td>\n",
       "      <td>ED</td>\n",
       "      <td>OB</td>\n",
       "      <td>IA</td>\n",
       "      <td>RA</td>\n",
       "      <td>LC</td>\n",
       "      <td>PC</td>\n",
       "      <td>AC</td>\n",
       "      <td>ZA</td>\n",
       "    </tr>\n",
       "    <tr>\n",
       "      <th>1</th>\n",
       "      <td>C</td>\n",
       "      <td>HC</td>\n",
       "      <td>DS</td>\n",
       "      <td>RC</td>\n",
       "      <td>Unknown</td>\n",
       "      <td>UC</td>\n",
       "      <td>ZF</td>\n",
       "      <td>E8</td>\n",
       "      <td>ED</td>\n",
       "      <td>OB</td>\n",
       "      <td>ID</td>\n",
       "      <td>RA</td>\n",
       "      <td>LC</td>\n",
       "      <td>PC</td>\n",
       "      <td>AC</td>\n",
       "      <td>ZA</td>\n",
       "    </tr>\n",
       "    <tr>\n",
       "      <th>2</th>\n",
       "      <td>B</td>\n",
       "      <td>HC</td>\n",
       "      <td>D3</td>\n",
       "      <td>R7</td>\n",
       "      <td>Unknown</td>\n",
       "      <td>UA</td>\n",
       "      <td>ZF</td>\n",
       "      <td>EA</td>\n",
       "      <td>EF</td>\n",
       "      <td>OC</td>\n",
       "      <td>IA</td>\n",
       "      <td>RC</td>\n",
       "      <td>LA</td>\n",
       "      <td>PD</td>\n",
       "      <td>AD</td>\n",
       "      <td>ZA</td>\n",
       "    </tr>\n",
       "    <tr>\n",
       "      <th>3</th>\n",
       "      <td>C</td>\n",
       "      <td>HC</td>\n",
       "      <td>DB</td>\n",
       "      <td>RC</td>\n",
       "      <td>Unknown</td>\n",
       "      <td>UC</td>\n",
       "      <td>ZA</td>\n",
       "      <td>EA</td>\n",
       "      <td>ED</td>\n",
       "      <td>OA</td>\n",
       "      <td>IA</td>\n",
       "      <td>RA</td>\n",
       "      <td>LD</td>\n",
       "      <td>PA</td>\n",
       "      <td>AC</td>\n",
       "      <td>ZA</td>\n",
       "    </tr>\n",
       "    <tr>\n",
       "      <th>4</th>\n",
       "      <td>B</td>\n",
       "      <td>HA</td>\n",
       "      <td>DF</td>\n",
       "      <td>RC</td>\n",
       "      <td>Unknown</td>\n",
       "      <td>UA</td>\n",
       "      <td>ZA</td>\n",
       "      <td>EA</td>\n",
       "      <td>ED</td>\n",
       "      <td>OB</td>\n",
       "      <td>IA</td>\n",
       "      <td>RA</td>\n",
       "      <td>LD</td>\n",
       "      <td>PC</td>\n",
       "      <td>AC</td>\n",
       "      <td>ZA</td>\n",
       "    </tr>\n",
       "  </tbody>\n",
       "</table>\n",
       "</div>"
      ],
      "text/plain": [
       "  C3  Q1 Q11 C13      Q39  Q3 Q28 Q12 Q34 C12 Q29  C2 Q32 Q10 Q36  Q2\n",
       "0  C  HA  D7  RC  Unknown  UC  ZA  EA  ED  OB  IA  RA  LC  PC  AC  ZA\n",
       "1  C  HC  DS  RC  Unknown  UC  ZF  E8  ED  OB  ID  RA  LC  PC  AC  ZA\n",
       "2  B  HC  D3  R7  Unknown  UA  ZF  EA  EF  OC  IA  RC  LA  PD  AD  ZA\n",
       "3  C  HC  DB  RC  Unknown  UC  ZA  EA  ED  OA  IA  RA  LD  PA  AC  ZA\n",
       "4  B  HA  DF  RC  Unknown  UA  ZA  EA  ED  OB  IA  RA  LD  PC  AC  ZA"
      ]
     },
     "execution_count": 23,
     "metadata": {},
     "output_type": "execute_result"
    }
   ],
   "source": [
    "df.fillna({col: \"Unknown\" for col in types[1]}, inplace=True)\n",
    "df[types[1]].head(5)"
   ]
  },
  {
   "cell_type": "code",
   "execution_count": 55,
   "metadata": {},
   "outputs": [
    {
     "name": "stdout",
     "output_type": "stream",
     "text": [
      "Bool \n",
      " Nombre de variables : 33\n",
      " % de colonnes qui contiennent:\n",
      "\n",
      " Au moins un Nan 0.7878787878787878\n",
      " Au moins 10% de NaN 0.2727272727272727\n",
      " Au moins 50% de NaN: 0.06060606060606061\n",
      " Au moins 80% de NaN 0.0\n",
      "\n",
      " -------------------------------------------------- \n",
      "\n",
      "Quantitative \n",
      " Nombre de variables : 52\n",
      " % de colonnes qui contiennent:\n",
      "\n",
      " Au moins un Nan 0.7115384615384616\n",
      " Au moins 10% de NaN 0.19230769230769232\n",
      " Au moins 50% de NaN: 0.1346153846153846\n",
      " Au moins 80% de NaN 0.09615384615384616\n",
      "\n",
      " -------------------------------------------------- \n",
      "\n",
      "Temporelle \n",
      " Nombre de variables : 5\n",
      " % de colonnes qui contiennent:\n",
      "\n",
      " Au moins un Nan 0.4\n",
      " Au moins 10% de NaN 0.4\n",
      " Au moins 50% de NaN: 0.0\n",
      " Au moins 80% de NaN 0.0\n",
      "\n",
      " -------------------------------------------------- \n",
      "\n"
     ]
    }
   ],
   "source": [
    "list_types = [\"Bool\", \"Qualitative\", \"Quantitative\", \"Temporelle\"]\n",
    "\n",
    "for cat, list_col in zip(list_types, types):\n",
    "    if cat == \"Qualitative\":\n",
    "        continue\n",
    "\n",
    "    missing_rate = df[list_col].isna().mean()\n",
    "    print(cat, \"\\n\", f\"Nombre de variables : {len(list_col)}\\n\", \"% de colonnes qui contiennent:\\n\")\n",
    "    print(f\" Au moins un Nan {len(missing_rate[missing_rate > 0.].index)/len(list_col)}\")\n",
    "    print(f\" Au moins 10% de NaN {len(missing_rate[missing_rate > 0.1].index)/len(list_col)}\")\n",
    "    print(f\" Au moins 50% de NaN: {len(missing_rate[missing_rate > 0.5].index)/len(list_col)}\")\n",
    "    print(f\" Au moins 80% de NaN {len(missing_rate[missing_rate > 0.8].index)/len(list_col)}\")\n",
    "    print('\\n', \"-\"*50, \"\\n\")"
   ]
  }
 ],
 "metadata": {
  "kernelspec": {
   "display_name": ".venv",
   "language": "python",
   "name": "python3"
  },
  "language_info": {
   "codemirror_mode": {
    "name": "ipython",
    "version": 3
   },
   "file_extension": ".py",
   "mimetype": "text/x-python",
   "name": "python",
   "nbconvert_exporter": "python",
   "pygments_lexer": "ipython3",
   "version": "3.12.7"
  }
 },
 "nbformat": 4,
 "nbformat_minor": 2
}
